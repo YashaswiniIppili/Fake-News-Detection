{
 "cells": [
  {
   "cell_type": "code",
   "execution_count": 1,
   "id": "82f37ff4",
   "metadata": {},
   "outputs": [
    {
     "name": "stdout",
     "output_type": "stream",
     "text": [
      "Accuracy: 0.9366369710467706\n",
      "Precision: 0.9347006129184346\n",
      "Recall: 0.9314070941977919\n",
      "F1-score: 0.9330509471702553\n"
     ]
    }
   ],
   "source": [
    "import pandas as pd\n",
    "from sklearn.feature_extraction.text import TfidfVectorizer\n",
    "from sklearn.model_selection import train_test_split\n",
    "from sklearn.naive_bayes import MultinomialNB\n",
    "from sklearn.metrics import accuracy_score, precision_score, recall_score, f1_score\n",
    "\n",
    "# Load the \"True.csv\" and \"Fake.csv\" datasets\n",
    "true_data = pd.read_csv('True.csv')\n",
    "fake_data = pd.read_csv('Fake.csv')\n",
    "\n",
    "# Add a label column to indicate whether the news is true (1) or fake (0)\n",
    "true_data['label'] = 1\n",
    "fake_data['label'] = 0\n",
    "\n",
    "# Concatenate the datasets into a single dataframe\n",
    "data = pd.concat([true_data, fake_data])\n",
    "\n",
    "# Convert the text data into numerical features using the TfidfVectorizer\n",
    "vectorizer = TfidfVectorizer(stop_words='english')\n",
    "X = vectorizer.fit_transform(data['text'])\n",
    "y = data['label']\n",
    "\n",
    "# Split the data into training and testing sets\n",
    "X_train, X_test, y_train, y_test = train_test_split(X, y, test_size=0.2, random_state=50)\n",
    "\n",
    "# Train a Naive Bayes classifier\n",
    "classifier = MultinomialNB()\n",
    "classifier.fit(X_train, y_train)\n",
    "\n",
    "# Make predictions on the test set\n",
    "y_pred = classifier.predict(X_test)\n",
    "\n",
    "# Evaluate performance using various metrics\n",
    "accuracy = accuracy_score(y_test, y_pred)\n",
    "precision = precision_score(y_test, y_pred)\n",
    "recall = recall_score(y_test, y_pred)\n",
    "f1 = f1_score(y_test, y_pred)\n",
    "\n",
    "print('Accuracy:', accuracy)\n",
    "print('Precision:', precision)\n",
    "print('Recall:', recall)\n",
    "print('F1-score:', f1)\n"
   ]
  },
  {
   "cell_type": "code",
   "execution_count": 2,
   "id": "567ce464",
   "metadata": {},
   "outputs": [
    {
     "name": "stdout",
     "output_type": "stream",
     "text": [
      "Cross-validation scores: [0.91046771 0.88964365 0.85111359 0.90878717 0.92805435]\n",
      "Mean cross-validation score: 0.897613292684167\n"
     ]
    }
   ],
   "source": [
    "import pandas as pd\n",
    "from sklearn.feature_extraction.text import TfidfVectorizer\n",
    "from sklearn.model_selection import cross_val_score\n",
    "from sklearn.naive_bayes import MultinomialNB\n",
    "\n",
    "# Load the \"True.csv\" and \"Fake.csv\" datasets\n",
    "true_data = pd.read_csv('True.csv')\n",
    "fake_data = pd.read_csv('Fake.csv')\n",
    "\n",
    "# Add a label column to indicate whether the news is true (1) or fake (0)\n",
    "true_data['label'] = 1\n",
    "fake_data['label'] = 0\n",
    "\n",
    "# Concatenate the datasets into a single dataframe\n",
    "data = pd.concat([true_data, fake_data])\n",
    "\n",
    "# Convert the text data into numerical features using the TfidfVectorizer\n",
    "vectorizer = TfidfVectorizer(stop_words='english')\n",
    "X = vectorizer.fit_transform(data['text'])\n",
    "y = data['label']\n",
    "\n",
    "# Train a Naive Bayes classifier using cross-validation\n",
    "classifier = MultinomialNB()\n",
    "scores = cross_val_score(classifier, X, y, cv=5)\n",
    "\n",
    "print('Cross-validation scores:', scores)\n",
    "print('Mean cross-validation score:', scores.mean())\n"
   ]
  },
  {
   "cell_type": "code",
   "execution_count": 11,
   "id": "1d7cfe81",
   "metadata": {},
   "outputs": [
    {
     "name": "stdout",
     "output_type": "stream",
     "text": [
      "Enter a news article: North Korea threatened the US and South Korea in 2023\n",
      "The news article is real\n"
     ]
    }
   ],
   "source": [
    "import pandas as pd\n",
    "from sklearn.feature_extraction.text import TfidfVectorizer\n",
    "from sklearn.naive_bayes import MultinomialNB\n",
    "\n",
    "# Load the data\n",
    "true_data = pd.read_csv('true.csv')\n",
    "fake_data = pd.read_csv('fake.csv')\n",
    "\n",
    "# Add labels to the data\n",
    "true_data['label'] = 'real'\n",
    "fake_data['label'] = 'fake'\n",
    "\n",
    "# Combine the data into a single DataFrame\n",
    "data = pd.concat([true_data, fake_data], ignore_index=True)\n",
    "\n",
    "# Convert the text data into numerical features using the TfidfVectorizer\n",
    "vectorizer = TfidfVectorizer(stop_words='english')\n",
    "X = vectorizer.fit_transform(data['text'])\n",
    "y = data['label']\n",
    "\n",
    "# Train a Naive Bayes classifier\n",
    "classifier = MultinomialNB()\n",
    "classifier.fit(X, y)\n",
    "\n",
    "# Take user input and classify it\n",
    "user_input = input(\"Enter a news article: \")\n",
    "user_input_vectorized = vectorizer.transform([user_input])\n",
    "prediction = classifier.predict(user_input_vectorized)\n",
    "\n",
    "print(\"The news article is\", prediction[0])\n"
   ]
  },
  {
   "cell_type": "code",
   "execution_count": null,
   "id": "7f9ba23a",
   "metadata": {},
   "outputs": [],
   "source": []
  }
 ],
 "metadata": {
  "kernelspec": {
   "display_name": "Python 3 (ipykernel)",
   "language": "python",
   "name": "python3"
  },
  "language_info": {
   "codemirror_mode": {
    "name": "ipython",
    "version": 3
   },
   "file_extension": ".py",
   "mimetype": "text/x-python",
   "name": "python",
   "nbconvert_exporter": "python",
   "pygments_lexer": "ipython3",
   "version": "3.9.12"
  }
 },
 "nbformat": 4,
 "nbformat_minor": 5
}
